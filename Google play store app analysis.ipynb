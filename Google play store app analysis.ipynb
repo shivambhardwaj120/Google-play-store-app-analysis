{
 "cells": [
  {
   "cell_type": "code",
   "execution_count": 1,
   "metadata": {},
   "outputs": [],
   "source": [
    "# Data analysis packages\n",
    "import pandas as pd\n",
    "import numpy as np\n",
    "import re\n",
    "\n",
    "# Plotting packages\n",
    "import matplotlib.pyplot as plt\n",
    "import seaborn as sns; sns.set()\n",
    "\n",
    "# NLP packages\n",
    "import nltk\n",
    "#nltk.download('stopwords')\n",
    "#nltk.download('punkt')\n",
    "#nltk.download('wordnet')\n",
    "from nltk.tokenize import word_tokenize\n",
    "from nltk.corpus import stopwords\n",
    "import nltk.classify.util\n",
    "from nltk.classify import NaiveBayesClassifier\n",
    "from nltk.corpus import movie_reviews\n",
    "from textblob import Word, TextBlob\n",
    "\n",
    "# Scaling\n",
    "from sklearn.preprocessing import scale"
   ]
  },
  {
   "cell_type": "code",
   "execution_count": null,
   "metadata": {},
   "outputs": [],
   "source": [
    "#****************************************************\n",
    "# Data Import\n",
    "#****************************************************\n",
    "\n",
    "data = pd.read_csv('googleplaystore.csv', \n",
    "                    parse_dates=['Last Updated'])\n",
    "\n",
    "data_reviews = pd.read_csv('googleplaystore_user_reviews.csv')\n",
    "\n",
    "data.dropna(inplace=True)\n",
    "data.reset_index(drop=True, inplace=True)\n",
    "data_reviews.dropna(inplace=True)\n",
    "data_reviews.reset_index(drop=True, inplace=True)"
   ]
  },
  {
   "cell_type": "code",
   "execution_count": null,
   "metadata": {},
   "outputs": [],
   "source": [
    "#****************************************************\n",
    "# Data Cleaning\n",
    "#****************************************************\n",
    "\n",
    "# Cleaning installs column\n",
    "install = np.array(data.Installs)\n",
    "\n",
    "for i in range(len(install)):\n",
    "    install[i] = install[i].strip('+')\n",
    "    install[i] = int(install[i].replace(',', ''))\n",
    "\n",
    "data.Installs = install\n",
    "\n",
    "# Cleaning last update column\n",
    "dates = pd.DatetimeIndex(data['Last Updated'])\n",
    "data['Last Updated'] = dates.year\n",
    "\n",
    "# Removing columns which are not required \n",
    "del(data['Current Ver'])\n",
    "del(data['Android Ver'])\n",
    "del(data['Genres'])"
   ]
  },
  {
   "cell_type": "code",
   "execution_count": null,
   "metadata": {},
   "outputs": [],
   "source": [
    "#**********************************************\n",
    "# Exploratory Data Analysis\n",
    "#**********************************************"
   ]
  },
  {
   "cell_type": "code",
   "execution_count": null,
   "metadata": {},
   "outputs": [],
   "source": [
    "print(data.info())"
   ]
  },
  {
   "cell_type": "code",
   "execution_count": null,
   "metadata": {},
   "outputs": [],
   "source": [
    "fig = plt.figure(figsize=(12,12))\n",
    "ax1 = plt.axes()\n",
    "df2 = data['Category'].value_counts()\n",
    "df2 = df2.reset_index()\n",
    "sns.barplot(x = df2['Category'],y = df2['index'],color='b',ax=ax1,orient='h')\n",
    "plt.xlabel('Number of Apps')\n",
    "plt.ylabel('')\n",
    "plt.title('Category-wise number of Apps')\n",
    "for i, v in enumerate(df2['Category'].values):\n",
    "    ax1.text(v + 1, i + .25, str(v), color='black')\n",
    "plt.show()"
   ]
  },
  {
   "cell_type": "code",
   "execution_count": null,
   "metadata": {},
   "outputs": [],
   "source": [
    "medals=data['Content Rating'].value_counts()\n",
    "labels=medals.index\n",
    "\n",
    "fig = plt.figure(figsize=(12,8))\n",
    "plt.pie(medals,labels=labels,shadow=True,autopct='%1.2f%%',radius=1.2)\n",
    "plt.title('Apps with Content Rating')\n",
    "plt.show()"
   ]
  },
  {
   "cell_type": "code",
   "execution_count": null,
   "metadata": {},
   "outputs": [],
   "source": [
    "medals=data['Type'].value_counts()\n",
    "labels=medals.index\n",
    "\n",
    "fig = plt.figure(figsize=(12,8))\n",
    "plt.pie(medals,labels=labels,shadow=True,autopct='%1.2f%%',radius=1)\n",
    "plt.title('Apps by Type')\n",
    "plt.show()"
   ]
  },
  {
   "cell_type": "code",
   "execution_count": null,
   "metadata": {},
   "outputs": [],
   "source": [
    "x_vals=data['Type'].values\n",
    "y_vals=data['Installs'].values\n",
    "\n",
    "fig = plt.figure(figsize=(8,10))\n",
    "sns.boxplot(x=x_vals, y=y_vals)\n",
    "plt.title('Ratings by Type')\n",
    "plt.show()"
   ]
  },
  {
   "cell_type": "code",
   "execution_count": null,
   "metadata": {},
   "outputs": [],
   "source": [
    "import plotly.offline as off\n",
    "import plotly.graph_objs as go\n",
    "off.init_notebook_mode(connected = True)\n",
    "\n",
    "cat_eda = data.groupby(['Category']).agg({'Installs':'sum'})\n",
    "\n",
    "labels = cat_eda.index\n",
    "values = cat_eda.Installs\n",
    "\n",
    "common_props = dict(labels=labels,\n",
    "                    values=values,)\n",
    "\n",
    "trace1 = go.Pie(\n",
    "    **common_props,\n",
    "    textinfo='percent',\n",
    "    textposition='outside')\n",
    "\n",
    "trace2 = go.Pie(\n",
    "    **common_props,\n",
    "    textinfo='label',\n",
    "    textposition='inside')\n",
    "\n",
    "off.iplot([trace1, trace2], filename='basic_pie_chart')"
   ]
  },
  {
   "cell_type": "code",
   "execution_count": null,
   "metadata": {},
   "outputs": [],
   "source": [
    "#****************************************************\n",
    "# Data Processing\n",
    "#****************************************************"
   ]
  },
  {
   "cell_type": "code",
   "execution_count": null,
   "metadata": {},
   "outputs": [],
   "source": [
    "#**** Basic Sentiment analysis of App reviews ****#\n",
    "\n",
    "a=pd.DataFrame(data_reviews.loc[:,['App', 'Translated_Review']])\n",
    "a.head()\n",
    "\n",
    "# lower case\n",
    "lower = lambda x: \" \".join(x.lower() for x in x.split())\n",
    "a['Processed_review'] = a['Translated_Review'].apply(lower)\n",
    "a['Processed_review'].head()\n",
    "\n",
    "# remove punctuations\n",
    "a['Processed_review'] = a['Processed_review'].str.replace('[^\\w\\s]','')\n",
    "a['Processed_review'].head()\n",
    "\n",
    "# remove stop words\n",
    "stop = stopwords.words('english')\n",
    "rem_stop = lambda x: \" \".join(x for x in x.split() if x not in stop)\n",
    "a['Processed_review'] = a['Processed_review'].apply(rem_stop)\n",
    "a['Processed_review'].head()\n",
    "\n",
    "#count freq words\n",
    "freq = pd.Series(' '.join(a['Processed_review']).split())\n",
    "freq = freq.value_counts()[:10]\n",
    "freq\n",
    "\n",
    "# remove words with high frequency \n",
    "freq = list(freq.index)\n",
    "rem_freq = lambda x: \" \".join(x for x in x.split() if x not in freq)\n",
    "a['Processed_review'] = a['Processed_review'].apply(rem_freq)\n",
    "a['Processed_review'].head()\n",
    "\n",
    "# count rare words\n",
    "freq = pd.Series(' '.join(a['Processed_review']).split())\n",
    "freq = freq.value_counts()[-10:]\n",
    "freq\n",
    "\n",
    "# remove words with less frequency\n",
    "freq = list(freq.index)\n",
    "rem_freq = lambda x: \" \".join(x for x in x.split() if x not in freq)\n",
    "a['Processed_review'] = a['Processed_review'].apply(rem_freq)\n",
    "a['Processed_review'].head()\n",
    "\n",
    "# tokenization\n",
    "a['tokenized_sentences'] = a['Processed_review'].apply(word_tokenize) \n",
    "a.head()\n",
    "\n",
    "#  Lemmatization\n",
    "lem = lambda x: \" \".join([Word(word).lemmatize() for word in x])\n",
    "a['Lemmatization'] = a['tokenized_sentences'].apply(lem)\n",
    "a.head()\n",
    "\n",
    "# sentiment rating (polarity)\n",
    "polar = lambda x: TextBlob(x).sentiment[0]\n",
    "a['Polarity'] = a['Lemmatization'].apply(polar)\n",
    "a[['Lemmatization','Polarity']].head(10)\n",
    "\n",
    "\n",
    "pos = [0]*len(a)\n",
    "neg = [0]*len(a)\n",
    "neu = [0]*len(a)\n",
    "x = np.array(a['Polarity'])\n",
    "\n",
    "for i in range(len(a)):\n",
    "    if x[i] < 0:\n",
    "        neg[i] = 1\n",
    "    elif x[i] == 0:\n",
    "        neu[i] = 1\n",
    "    else:\n",
    "        pos[i] = 1\n",
    "\n",
    "a['Positive'] = pos\n",
    "a['Negative'] = neg\n",
    "a['Neutral'] = neu\n",
    "a.head()\n",
    "\n",
    "# Updated dataset with total ratings per app\n",
    "reviews = a.groupby(['App']).agg({\n",
    "                        'Positive':'sum',\n",
    "                        'Negative':'sum',\n",
    "                        'Neutral':'sum'\n",
    "                })"
   ]
  },
  {
   "cell_type": "code",
   "execution_count": null,
   "metadata": {},
   "outputs": [],
   "source": [
    "#**********************************************\n",
    "# Merging both datasets\n",
    "#**********************************************"
   ]
  },
  {
   "cell_type": "code",
   "execution_count": null,
   "metadata": {},
   "outputs": [],
   "source": [
    "n_data = pd.merge(data, reviews, how='inner', on='App')\n",
    "n_data.dropna(inplace=True)\n",
    "n_data.drop_duplicates(subset='App', keep='first', inplace=True)\n",
    "n_data.reset_index(drop=True, inplace=True)"
   ]
  },
  {
   "cell_type": "code",
   "execution_count": null,
   "metadata": {},
   "outputs": [],
   "source": [
    "# Writing processed data to a new file\n",
    "filename = '/home/rajat/Documents/Aegis/Python/Python Project/google-play-store-apps/Processed_data.csv'\n",
    "n_data.to_csv(path_or_buf=filename, sep=',', mode='w')"
   ]
  },
  {
   "cell_type": "code",
   "execution_count": null,
   "metadata": {},
   "outputs": [],
   "source": [
    "#**********************************************\n",
    "# Loading Processed data\n",
    "#**********************************************"
   ]
  },
  {
   "cell_type": "code",
   "execution_count": null,
   "metadata": {},
   "outputs": [],
   "source": [
    "n_data = pd.read_csv('/home/rajat/Documents/Aegis/Python/Python Project/google-play-store-apps/Processed_data.csv').iloc[:, 1:]"
   ]
  },
  {
   "cell_type": "code",
   "execution_count": null,
   "metadata": {},
   "outputs": [],
   "source": [
    "n_data.head()"
   ]
  },
  {
   "cell_type": "code",
   "execution_count": null,
   "metadata": {},
   "outputs": [],
   "source": [
    "#**********************************************\n",
    "# Data Analysis\n",
    "#**********************************************"
   ]
  },
  {
   "cell_type": "code",
   "execution_count": null,
   "metadata": {},
   "outputs": [],
   "source": [
    "# Category-wise data\n",
    "cat_eda = n_data.groupby(['Category']).agg({\n",
    "         'Positive':'sum',\n",
    "         'Neutral':'sum',\n",
    "         'Negative':'sum',\n",
    "         'Rating':'mean',\n",
    "         'Installs':'sum'\n",
    "})\n",
    "cat_eda.Rating = cat_eda.Rating.round(1)\n",
    "cat_eda.Installs = cat_eda.Installs.round()"
   ]
  },
  {
   "cell_type": "code",
   "execution_count": null,
   "metadata": {},
   "outputs": [],
   "source": [
    "# Plotting percentage of reviews post sentiment analysis\n",
    "barWidth = 0.85\n",
    "names = cat_eda.index\n",
    "col_names = ['Negative','Neutral','Positive']\n",
    "r = np.arange(len(names))\n",
    "totals = [i+j+k for i,j,k in zip(cat_eda['Positive'], cat_eda['Neutral'], cat_eda['Negative'])]\n",
    "posi = [i / j * 100 for i,j in zip(cat_eda['Positive'], totals)]\n",
    "neut = [i / j * 100 for i,j in zip(cat_eda['Neutral'], totals)]\n",
    "negi = [i / j * 100 for i,j in zip(cat_eda['Negative'], totals)]\n",
    "\n",
    "sns.set(style='whitegrid')\n",
    "plt.figure(figsize=(15, 10))\n",
    "plt.barh(r, negi, color='tab:red', edgecolor='white', height=barWidth, alpha=0.7)\n",
    "plt.barh(r, neut, left=negi, color='tab:gray', edgecolor='white', height=barWidth, alpha=0.7)\n",
    "plt.barh(r, posi, left=[i+j for i,j in zip(negi, neut)], color='tab:blue', edgecolor='white', height=barWidth, alpha=0.7)\n",
    "plt.yticks(r, names)\n",
    "plt.xlabel('Reviews', labelpad=20)\n",
    "plt.title('Categorywise Reviews', pad=30)\n",
    "plt.legend(col_names, loc=4, frameon=True)\n",
    "sns.despine(left=True, bottom=True)\n",
    "plt.show()"
   ]
  },
  {
   "cell_type": "code",
   "execution_count": null,
   "metadata": {},
   "outputs": [],
   "source": [
    "# Preparing data for generating scores\n",
    "rank = n_data.loc[:, ['Rating','Installs','Reviews','Positive','Negative','Neutral']]\n",
    "columns = ['Rating','Installs','Reviews','Positive','Negative','Neutral']\n",
    "rank_scale = pd.DataFrame(scale(rank), columns=columns)\n",
    "rank = rank_scale + abs(min(np.min(rank_scale)))\n",
    "\n",
    "t_rating = np.array(rank.Rating)\n",
    "t_installs = np.array(rank.Installs)\n",
    "t_posi = np.array(rank.Positive)\n",
    "t_negi = np.array(rank.Negative)\n",
    "t_neut = np.array(rank.Neutral)\n",
    "t_rev = np.array(rank.Reviews)"
   ]
  },
  {
   "cell_type": "code",
   "execution_count": null,
   "metadata": {},
   "outputs": [],
   "source": [
    "# Applying rule to find top 10\n",
    "y = (1.5*t_rating + 3*t_installs + 2*t_posi - 2*t_negi + t_neut + 2*t_rev)/6\n",
    "n_data['Scores'] = y"
   ]
  },
  {
   "cell_type": "code",
   "execution_count": null,
   "metadata": {},
   "outputs": [],
   "source": [
    "# Sorting in descending order\n",
    "sorted_desc = n_data.sort_values('Scores', axis=0, ascending=False)\n",
    "sorted_desc['Ranks'] = np.arange(1, len(sorted_desc)+1)"
   ]
  },
  {
   "cell_type": "code",
   "execution_count": null,
   "metadata": {},
   "outputs": [],
   "source": [
    "sorted_desc.head()"
   ]
  },
  {
   "cell_type": "code",
   "execution_count": null,
   "metadata": {},
   "outputs": [],
   "source": [
    "# Top 10 most popular\n",
    "most_popular = sorted_desc.head(10).reset_index(drop=True)\n",
    "most_popular"
   ]
  },
  {
   "cell_type": "code",
   "execution_count": null,
   "metadata": {},
   "outputs": [],
   "source": [
    "# Top 10 most downloaded\n",
    "most_down = n_data.sort_values('Installs', axis=0, ascending=False).head(10).reset_index(drop=True)\n",
    "most_down"
   ]
  },
  {
   "cell_type": "code",
   "execution_count": null,
   "metadata": {},
   "outputs": [],
   "source": [
    "# Top 10 highly rated\n",
    "most_rated = n_data.sort_values('Rating', axis=0, ascending=False).head(10).reset_index(drop=True)\n",
    "most_rated"
   ]
  },
  {
   "cell_type": "code",
   "execution_count": null,
   "metadata": {},
   "outputs": [],
   "source": [
    "#**********************************************\n",
    "# For UI \n",
    "#**********************************************"
   ]
  },
  {
   "cell_type": "code",
   "execution_count": null,
   "metadata": {},
   "outputs": [],
   "source": [
    "# Creating dummy developers for demo purpose\n",
    "dev1 = sorted_desc.sample(10, random_state=3).reset_index(drop=True)\n",
    "dev1['DevID'] = 'dev1'\n",
    "dev2 = sorted_desc.sample(7, random_state=6).reset_index(drop=True)\n",
    "dev2['DevID'] = 'dev2'\n",
    "dev3 = sorted_desc.sample(2, random_state=11).reset_index(drop=True)\n",
    "dev3['DevID'] = 'dev3'"
   ]
  },
  {
   "cell_type": "code",
   "execution_count": null,
   "metadata": {},
   "outputs": [],
   "source": [
    "# Category-wise total scores\n",
    "cat_scr = n_data.groupby(['Category']).agg({'Scores':'sum'})\n",
    "cat_scr.sort_values('Scores', ascending=False, inplace=True)\n",
    "cat_scr.reset_index(inplace=True)"
   ]
  },
  {
   "cell_type": "code",
   "execution_count": null,
   "metadata": {},
   "outputs": [],
   "source": [
    "# Function for generating data for developer dashboard\n",
    "\n",
    "def dev_dash(dev):\n",
    "\n",
    "    # Developer rating\n",
    "    dev_rating = round(dev.Rating.mean(), 2)\n",
    "\n",
    "    # Total App downloads\n",
    "    dev_downloads = dev.Installs.sum()\n",
    "\n",
    "    # Total positive reviews\n",
    "    dev_pos = dev.Positive.sum()\n",
    "\n",
    "    # Total negative reviews\n",
    "    dev_neg = dev.Negative.sum()\n",
    "\n",
    "    # Suggestions for next project\n",
    "    dev_sugg = cat_scr.Category.head(3).values\n",
    "\n",
    "    # Developer plot prep\n",
    "    tb_scr = sorted_desc.Scores.values\n",
    "    tb_ranks = sorted_desc.Ranks.values\n",
    "    d_sort = dev.sort_values('Scores', axis=0, ascending=False)\n",
    "    x_vals = ['Highest'] + list(d_sort.App.values) + ['Lowest']\n",
    "    dev_ranks = ['Rank '+str(tb_ranks[0])] + ['Rank '+str(x) for x in d_sort.Ranks.values] + ['Rank '+str(tb_ranks[-1])]\n",
    "    y_vals = [tb_scr[0]] + list(d_sort.Scores.values) + [tb_scr[-1]]\n",
    "    col_dev = ['g'] + ['b']*(len(x_vals)-2) + ['r']\n",
    "    \n",
    "    # Developer plot\n",
    "    sns.set(style='white')\n",
    "    fig = plt.figure(figsize=(17,12))\n",
    "    ax1 = plt.axes()\n",
    "    sns.barplot(x = y_vals,y = x_vals, palette=col_dev, ax=ax1)\n",
    "    for x,y,z in zip(np.arange(len(x_vals)),y_vals,dev_ranks):\n",
    "        ax1.text(y+.1, x+.1, z, color='black', fontsize=12)\n",
    "    plt.yticks(rotation=10, fontsize=9)\n",
    "    sns.despine(bottom=True)\n",
    "    img_name = '/home/rajat/Documents/Aegis/Python/Python Project/google-play-store-apps/static/'+dev.DevID[0]+'.png'\n",
    "    img_n = dev.DevID[0]+'.png'\n",
    "    plt.savefig(fname=img_name)\n",
    "\n",
    "    return {'Rating':dev_rating, 'Downloads':dev_downloads, 'Positive':dev_pos, 'Negative':dev_neg, 'Suggestion':dev_sugg, 'Image':img_n}"
   ]
  },
  {
   "cell_type": "code",
   "execution_count": null,
   "metadata": {},
   "outputs": [],
   "source": [
    "# Generating data for dummy developers\n",
    "d1 = dev_dash(dev1)\n",
    "d2 = dev_dash(dev2)\n",
    "d3 = dev_dash(dev3)"
   ]
  },
  {
   "cell_type": "code",
   "execution_count": null,
   "metadata": {},
   "outputs": [],
   "source": [
    "print(d1)\n",
    "print(d2)\n",
    "print(d3)"
   ]
  },
  {
   "cell_type": "code",
   "execution_count": null,
   "metadata": {},
   "outputs": [],
   "source": [
    "D1=pd.DataFrame(most_popular)\n",
    "D1['percentage']=[(ratings/5)*100 for ratings in D1['Rating']]\n",
    "D2=D1[['App','Rating','Installs','percentage']]\n",
    "D2.reset_index(drop=True,inplace=True)\n",
    "D3=pd.DataFrame(most_down)\n",
    "D3['percentage']=[(ratings/5)*100 for ratings in D1['Rating']]\n",
    "D3.reset_index(drop=True,inplace=True)\n",
    "D4=D3[['App','Rating','Installs','percentage']]\n",
    "D4\n",
    "D5=pd.DataFrame(most_rated)\n",
    "D5['percentage']=[(ratings/5)*100 for ratings in D1['Rating']]\n",
    "D5.reset_index(drop=True,inplace=True)\n",
    "D6=D5[['App','Rating','Installs','percentage']]\n",
    "D6"
   ]
  },
  {
   "cell_type": "code",
   "execution_count": null,
   "metadata": {},
   "outputs": [],
   "source": [
    "from werkzeug.wrappers import Request, Response\n",
    "from flask import Flask,render_template, redirect , url_for,request\n",
    "from werkzeug.serving import run_simple\n",
    "\n",
    "\n",
    "app = Flask(__name__,template_folder='templates',static_folder='static')\n",
    "app.debug=True\n",
    "\n",
    "\n",
    "@app.route(\"/\",methods=['GET', 'POST'])\n",
    "def main():\n",
    "    table=D2\n",
    "    table1=D4\n",
    "    table2=D6\n",
    "    admin=['dev11@gmail','dev12@gmail','dev13@gmail','1111','2222','3333']\n",
    "    error = None\n",
    "    if request.method == 'POST':\n",
    "        if request.form['username'] not in  admin or request.form['password'] not in  admin:\n",
    "            error = 'Invalid Credentials. Please try again.'\n",
    "            \n",
    "        else:\n",
    "            if request.form['username'] == 'dev11@gmail':\n",
    "                return render_template('index1.html',dic=d1, dev1=dev1)\n",
    "       \n",
    "            elif request.form['username']== 'dev12@gmail':\n",
    "                return render_template('index1.html',dic=d2, dev2=dev2)\n",
    "       \n",
    "            elif request.form['username']== 'dev13@gmail':\n",
    "                return render_template('index1.html',dic=d3, dev3=dev3)\n",
    "            else:\n",
    "                print('Invalid') \n",
    "            #return redirect('home')\n",
    "    return render_template('index7.html',table=D2,table1=D4,table2=D6,error=error)\n",
    "    \n",
    "# @app.route(\"/home\")\n",
    "# def home():\n",
    "#     if 'username' == 'dev11@gmail':\n",
    "#         return render_template('index1.html',dic=dic11)\n",
    "       \n",
    "#     elif 'username'== 'dev12@gmail':\n",
    "#         return render_template('index1.html',dic=dic21)\n",
    "       \n",
    "#     elif 'username'== 'dev13@gmail':\n",
    "#         return render_template('index1.html',dic=dic3)\n",
    "#     else:\n",
    "#         print('Invalid') \n",
    "\n",
    "\n",
    "if __name__ == '__main__':\n",
    "    run_simple('localhost', 9000, app)"
   ]
  }
 ],
 "metadata": {
  "kernelspec": {
   "display_name": "Python 3",
   "language": "python",
   "name": "python3"
  },
  "language_info": {
   "codemirror_mode": {
    "name": "ipython",
    "version": 3
   },
   "file_extension": ".py",
   "mimetype": "text/x-python",
   "name": "python",
   "nbconvert_exporter": "python",
   "pygments_lexer": "ipython3",
   "version": "3.6.8"
  }
 },
 "nbformat": 4,
 "nbformat_minor": 2
}
